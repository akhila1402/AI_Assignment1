{
 "cells": [
  {
   "cell_type": "code",
   "execution_count": 1,
   "id": "95560e90-1d79-4d4e-8105-f300cf666664",
   "metadata": {},
   "outputs": [],
   "source": [
    "class RabbitLeapDFS:\n",
    "    def initial(self):\n",
    "        return ('W', 'W', 'W', '_', 'E', 'E', 'E')\n",
    "\n",
    "    def is_goal(self, state):\n",
    "        return state == ('E', 'E', 'E', '_', 'W', 'W', 'W')\n",
    "\n",
    "    def nextmove(self, state):\n",
    "        moves = []\n",
    "        state = list(state)\n",
    "        for i in range(len(state)):\n",
    "            if state[i] == 'W':\n",
    "                if i+1 < len(state) and state[i+1] == '_':\n",
    "                    new = state[:]\n",
    "                    new[i], new[i+1] = new[i+1], new[i]\n",
    "                    moves.append(tuple(new))\n",
    "                elif i+2 < len(state) and state[i+1] in ['E','W'] and state[i+2] == '_':\n",
    "                    new = state[:]\n",
    "                    new[i], new[i+2] = new[i+2], new[i]\n",
    "                    moves.append(tuple(new))\n",
    "            elif state[i] == 'E':\n",
    "                if i-1 >= 0 and state[i-1] == '_':\n",
    "                    new = state[:]\n",
    "                    new[i], new[i-1] = new[i-1], new[i]\n",
    "                    moves.append(tuple(new))\n",
    "                elif i-2 >= 0 and state[i-1] in ['E','W'] and state[i-2] == '_':\n",
    "                    new = state[:]\n",
    "                    new[i], new[i-2] = new[i-2], new[i]\n",
    "                    moves.append(tuple(new))\n",
    "        return moves\n",
    "\n",
    "def dfs(problem):\n",
    "    stack = [(problem.initial(), [])]\n",
    "    visited = set()\n",
    "\n",
    "    while stack:\n",
    "        state, path = stack.pop()\n",
    "        if problem.is_goal(state):\n",
    "            return path + [state]\n",
    "        if state in visited:\n",
    "            continue\n",
    "        visited.add(state)\n",
    "        for next_state in problem.nextmove(state):\n",
    "            stack.append((next_state, path + [state]))\n",
    "    return None\n"
   ]
  },
  {
   "cell_type": "code",
   "execution_count": 2,
   "id": "09dae02f-39bc-439b-a2e6-184c0f809af5",
   "metadata": {},
   "outputs": [
    {
     "name": "stdout",
     "output_type": "stream",
     "text": [
      "DFS Path:\n",
      "('W', 'W', 'W', '_', 'E', 'E', 'E')\n",
      "('W', 'W', 'W', 'E', '_', 'E', 'E')\n",
      "('W', 'W', '_', 'E', 'W', 'E', 'E')\n",
      "('W', '_', 'W', 'E', 'W', 'E', 'E')\n",
      "('W', 'E', 'W', '_', 'W', 'E', 'E')\n",
      "('W', 'E', 'W', 'E', 'W', '_', 'E')\n",
      "('W', 'E', 'W', 'E', 'W', 'E', '_')\n",
      "('W', 'E', 'W', 'E', '_', 'E', 'W')\n",
      "('W', 'E', '_', 'E', 'W', 'E', 'W')\n",
      "('_', 'E', 'W', 'E', 'W', 'E', 'W')\n",
      "('E', '_', 'W', 'E', 'W', 'E', 'W')\n",
      "('E', 'E', 'W', '_', 'W', 'E', 'W')\n",
      "('E', 'E', 'W', 'E', 'W', '_', 'W')\n",
      "('E', 'E', 'W', 'E', '_', 'W', 'W')\n",
      "('E', 'E', '_', 'E', 'W', 'W', 'W')\n",
      "('E', 'E', 'E', '_', 'W', 'W', 'W')\n"
     ]
    }
   ],
   "source": [
    "dfs_problem = RabbitLeapDFS()\n",
    "dfs_result = dfs(dfs_problem)\n",
    "\n",
    "print(\"DFS Path:\")\n",
    "for step in dfs_result:\n",
    "    print(step)"
   ]
  },
  {
   "cell_type": "code",
   "execution_count": null,
   "id": "4896fb3c-ec66-4a05-950c-49bae36d69be",
   "metadata": {},
   "outputs": [],
   "source": []
  }
 ],
 "metadata": {
  "kernelspec": {
   "display_name": "Python 3 (ipykernel)",
   "language": "python",
   "name": "python3"
  },
  "language_info": {
   "codemirror_mode": {
    "name": "ipython",
    "version": 3
   },
   "file_extension": ".py",
   "mimetype": "text/x-python",
   "name": "python",
   "nbconvert_exporter": "python",
   "pygments_lexer": "ipython3",
   "version": "3.10.12"
  }
 },
 "nbformat": 4,
 "nbformat_minor": 5
}
