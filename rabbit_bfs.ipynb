{
 "cells": [
  {
   "cell_type": "code",
   "execution_count": 1,
   "id": "882095fa-3129-4bcd-8aa1-0b65c58865f1",
   "metadata": {},
   "outputs": [],
   "source": [
    "from collections import deque\n",
    "\n",
    "class RabbitLeapBFS:\n",
    "    def initial(self):\n",
    "        return ('W', 'W', 'W', '_', 'E', 'E', 'E')\n",
    "\n",
    "    def is_goal(self, state):\n",
    "        return state == ('E', 'E', 'E', '_', 'W', 'W', 'W')\n",
    "\n",
    "    def nextmove(self, state):\n",
    "        moves = []\n",
    "        state = list(state)\n",
    "        for i in range(len(state)):\n",
    "            if state[i] == 'W':\n",
    "                if i+1 < len(state) and state[i+1] == '_':\n",
    "                    new = state[:]\n",
    "                    new[i], new[i+1] = new[i+1], new[i]\n",
    "                    moves.append(tuple(new))\n",
    "                elif i+2 < len(state) and state[i+1] in ['E','W'] and state[i+2] == '_':\n",
    "                    new = state[:]\n",
    "                    new[i], new[i+2] = new[i+2], new[i]\n",
    "                    moves.append(tuple(new))\n",
    "            elif state[i] == 'E':\n",
    "                if i-1 >= 0 and state[i-1] == '_':\n",
    "                    new = state[:]\n",
    "                    new[i], new[i-1] = new[i-1], new[i]\n",
    "                    moves.append(tuple(new))\n",
    "                elif i-2 >= 0 and state[i-1] in ['E','W'] and state[i-2] == '_':\n",
    "                    new = state[:]\n",
    "                    new[i], new[i-2] = new[i-2], new[i]\n",
    "                    moves.append(tuple(new))\n",
    "        return moves\n",
    "\n",
    "def bfs(problem):\n",
    "    start = problem.initial()\n",
    "    queue = deque([(start, [])])\n",
    "    visited = set()\n",
    "\n",
    "    while queue:\n",
    "        state, path = queue.popleft()\n",
    "        if problem.is_goal(state):\n",
    "            return path + [state]\n",
    "        if state in visited:\n",
    "            continue\n",
    "        visited.add(state)\n",
    "        for next_state in problem.nextmove(state):\n",
    "            queue.append((next_state, path + [state]))\n",
    "    return None\n"
   ]
  },
  {
   "cell_type": "code",
   "execution_count": 2,
   "id": "556a3ba5-7736-4536-bc56-9d34b7230423",
   "metadata": {},
   "outputs": [
    {
     "name": "stdout",
     "output_type": "stream",
     "text": [
      "\n",
      "BFS Path:\n",
      "('W', 'W', 'W', '_', 'E', 'E', 'E')\n",
      "('W', 'W', '_', 'W', 'E', 'E', 'E')\n",
      "('W', 'W', 'E', 'W', '_', 'E', 'E')\n",
      "('W', 'W', 'E', 'W', 'E', '_', 'E')\n",
      "('W', 'W', 'E', '_', 'E', 'W', 'E')\n",
      "('W', '_', 'E', 'W', 'E', 'W', 'E')\n",
      "('_', 'W', 'E', 'W', 'E', 'W', 'E')\n",
      "('E', 'W', '_', 'W', 'E', 'W', 'E')\n",
      "('E', 'W', 'E', 'W', '_', 'W', 'E')\n",
      "('E', 'W', 'E', 'W', 'E', 'W', '_')\n",
      "('E', 'W', 'E', 'W', 'E', '_', 'W')\n",
      "('E', 'W', 'E', '_', 'E', 'W', 'W')\n",
      "('E', '_', 'E', 'W', 'E', 'W', 'W')\n",
      "('E', 'E', '_', 'W', 'E', 'W', 'W')\n",
      "('E', 'E', 'E', 'W', '_', 'W', 'W')\n",
      "('E', 'E', 'E', '_', 'W', 'W', 'W')\n"
     ]
    }
   ],
   "source": [
    "bfs_problem = RabbitLeapBFS()\n",
    "bfs_result = bfs(bfs_problem)\n",
    "\n",
    "print(\"\\nBFS Path:\")\n",
    "for step in bfs_result:\n",
    "    print(step)"
   ]
  },
  {
   "cell_type": "code",
   "execution_count": null,
   "id": "0911c38a-7437-4a7a-aa78-0e56e5f7c578",
   "metadata": {},
   "outputs": [],
   "source": []
  }
 ],
 "metadata": {
  "kernelspec": {
   "display_name": "Python 3 (ipykernel)",
   "language": "python",
   "name": "python3"
  },
  "language_info": {
   "codemirror_mode": {
    "name": "ipython",
    "version": 3
   },
   "file_extension": ".py",
   "mimetype": "text/x-python",
   "name": "python",
   "nbconvert_exporter": "python",
   "pygments_lexer": "ipython3",
   "version": "3.10.12"
  }
 },
 "nbformat": 4,
 "nbformat_minor": 5
}
